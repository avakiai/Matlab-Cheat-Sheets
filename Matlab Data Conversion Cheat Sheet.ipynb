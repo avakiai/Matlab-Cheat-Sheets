{
 "cells": [
  {
   "cell_type": "markdown",
   "metadata": {},
   "source": [
    "# Matlab Data Conversion Cheat Sheet\n",
    "### Because Matlab is an ambiguous bitch when it comes to converting data types. \n",
    "\n",
    "#### Introduction\n",
    "If, like me, you struggle to remember how to get your data from its current format into a different format, and are constantly frustrated by the misleading function names and surprising outputs Matlab spits back at you, then this cheat sheet is for you. \n",
    "\n",
    "Below, I will go through the common data types and all the possible conversion functions that can be applied to each. You can run the cell to see how the function acts on the input data type, which will also be explained. Some data types will show examples for both 1d and 2d arrays; I find visualizing the differences can sometimes be helpful. \n",
    "  \n",
    "If I have missed some functions, or excluded data types you find useful, please feel free to suggest additions and changes! \n",
    "\n",
    "There are several other Matlab cheat sheets online that are also useful for reference. I've found two that are short and helpful and feature common commands, [here](http://web.econ.ku.dk/pajhede/cheatsheet.pdf) and [here](http://web.mit.edu/18.06/www/Spring09/matlab-cheatsheet.pdf).\n",
    "[Somebody on Github](https://github.com/krishnr/MATLAB-cheat-sheet#functions) has also put up a handy guide. And lastly, [a longer and more in-depth version](https://www.dummies.com/programming/matlab-for-dummies-cheat-sheet/) is available from the people who make the ___ for Dummies books.\n",
    "None of these appear to go in-depth on data conversion. \n",
    "\n",
    "As always, Matlab's [own page](https://de.mathworks.com/help/matlab/data-type-conversion.html) for data type conversion function is a decent reference, but can be cryptic and/or poorly organized. \n"
   ]
  },
  {
   "cell_type": "markdown",
   "metadata": {},
   "source": [
    "#### Organization\n",
    "I'll first go over how transposition and concatenation affect the major data types:\n",
    "* numerical arrays ([1 2 3 4])\n",
    "* character vectors ('hello world!')\n",
    "* string vectors (\"hello world!\")\n",
    "* cell arrays of numerical, character or string vectors\n",
    "\n",
    "I'll then go over how to convert *to* each major data type. Each section will include in its header the functions that perform the conversion. \n",
    "The following code snippet will walk through how you can get specific inputs into said data type. "
   ]
  },
  {
   "cell_type": "markdown",
   "metadata": {},
   "source": [
    "#### Conversions That We'll Cover\n",
    "1. Transposition & Concatenation\n",
    "2. Conversion to Cell arrays\n",
    "3. Conversion to Character vectors\n",
    "4. Conversion to String vectors\n",
    "5. Conversion to Numerical arrays\n",
    "\n",
    "At the end are listed the function for converting to and from tables and structures. If there are requests, I can elaborate on them. \n"
   ]
  },
  {
   "cell_type": "markdown",
   "metadata": {},
   "source": [
    "#### 1. Transposition & Concatenation"
   ]
  },
  {
   "cell_type": "code",
   "execution_count": 138,
   "metadata": {},
   "outputs": [
    {
     "name": "stdout",
     "output_type": "stream",
     "text": [
      "\n",
      "more_nums_h =\n",
      "\n",
      "     1     2     3     4     5     6     7     8     9    10\n",
      "     1     2     3     4     5     6     7     8     9    10\n",
      "\n",
      "\n",
      "more_nums_v =\n",
      "\n",
      "     1     1\n",
      "     2     2\n",
      "     3     3\n",
      "     4     4\n",
      "     5     5\n",
      "     6     6\n",
      "     7     7\n",
      "     8     8\n",
      "     9     9\n",
      "    10    10\n",
      "\n",
      "\n"
     ]
    }
   ],
   "source": [
    "% So you've got a numerical array...\n",
    "some_nums = [1:10]; % 1d array\n",
    "\n",
    "more_nums_h = [some_nums;some_nums]   % 2d array via vertical concatenation (stacking rows)\n",
    "more_nums_v = [some_nums',some_nums'] % 2d array via horizontal concatenation (adding columns) after transposing the 1d array "
   ]
  },
  {
   "cell_type": "code",
   "execution_count": 139,
   "metadata": {},
   "outputs": [
    {
     "name": "stdout",
     "output_type": "stream",
     "text": [
      "\n",
      "vert_chars =\n",
      "\n",
      "  5x2 char array\n",
      "\n",
      "    'ab'\n",
      "    'bc'\n",
      "    'de'\n",
      "    'ef'\n",
      "    'gh'\n",
      "\n",
      "\n",
      "horz_chars =\n",
      "\n",
      "    'abbcdeefgh'\n",
      "\n",
      "\n"
     ]
    }
   ],
   "source": [
    "% So you've got character vectors...\n",
    "some_chars = 'abcdefgh'; % 1d vector\n",
    "\n",
    "% Horizontal and vertical concatenation have different consequences when you have \n",
    "% a multidimensional array of character vectors...\n",
    "vert_chars = ['ab';'bc';'de';'ef';'gh'] % 2d array of character vectors that kind of looks\n",
    "                                         % and can behave like a vertical 1d array\n",
    "\n",
    "horz_chars = ['ab','bc','de','ef','gh'] % 1d character vector\n",
    "\n",
    "% Concatenating character vectors simply extends the vector... \n",
    "more_horz_chars = [horz_chars;horz_chars];  % concat vertically (stack rows) and vectors are horizonal\n",
    "more_vert_chars = [vert_chars,vert_chars];  % concat horiontally (add columns) and vectors are vertical"
   ]
  },
  {
   "cell_type": "code",
   "execution_count": 140,
   "metadata": {},
   "outputs": [
    {
     "name": "stdout",
     "output_type": "stream",
     "text": [
      "\n",
      "vert_str = \n",
      "\n",
      "  5x1 string array\n",
      "\n",
      "    \"ab\"\n",
      "    \"bc\"\n",
      "    \"de\"\n",
      "    \"ef\"\n",
      "    \"gh\"\n",
      "\n",
      "\n",
      "horz_str = \n",
      "\n",
      "  1x5 string array\n",
      "\n",
      "    \"ab\"    \"bc\"    \"de\"    \"ef\"    \"gh\"\n",
      "\n",
      "\n"
     ]
    }
   ],
   "source": [
    "% So you've got string vectors...\n",
    "a_string = \"abcdefgh\";\n",
    "\n",
    "vert_str = [\"ab\";\"bc\";\"de\";\"ef\";\"gh\"] % 1d array of string vectors | Note the difference with character vector behavior!\n",
    "horz_str = [\"ab\",\"bc\",\"de\",\"ef\",\"gh\"] % 1d array of string vectors\n",
    "\n",
    "% Unlike with character vectors, concatenating string vectors keeps the vectors separate, i.e. changes the dimensionality\n",
    "% of the array\n",
    "more_vert_str = [vert_str;vert_str];   % concat vertically (stack rows)\n",
    "more_horz_str = [horz_str,horz_str];   % concat horiontally (add columns)\n"
   ]
  },
  {
   "cell_type": "markdown",
   "metadata": {},
   "source": [
    "Note that using square brackets '[ ]' with comma ',' or semi-colon ';' separators is equivalent to using the functions horzcat(x,y) or vertcat(x,y), respectively. "
   ]
  },
  {
   "cell_type": "markdown",
   "metadata": {},
   "source": [
    "#### 2. Convert to Cell arrays\n",
    "\n",
    "* cell()\n",
    "* num2cell()    -- inputs must be numerical arrays \n",
    "* curly brackets { }\n",
    "* cellstr()     -- inputs must be string or character vectors\n",
    "\n",
    "Not included here:\n",
    "* mat2cell()    -- inputs must be numerical, also [a bit complicated](https://de.mathworks.com/help/matlab/ref/mat2cell.html)\n",
    "* struct2cell() -- to come...\n",
    "* table2cell()  -- to come..."
   ]
  },
  {
   "cell_type": "code",
   "execution_count": 141,
   "metadata": {},
   "outputs": [
    {
     "name": "stdout",
     "output_type": "stream",
     "text": [
      "\n",
      "mycellofnums =\n",
      "\n",
      "  1x10 cell array\n",
      "\n",
      "    {[1]}    {[2]}    {[3]}    {[4]}    {[5]}    {[6]}    {[7]}    {[8]}    {[9]}    {[10]}\n",
      "\n",
      "\n",
      "mycellofchars =\n",
      "\n",
      "  1x5 cell array\n",
      "\n",
      "    {'ab'}    {'bc'}    {'de'}    {'ef'}    {'gh'}\n",
      "\n",
      "\n",
      "mycellofstrs =\n",
      "\n",
      "  1x5 cell array\n",
      "\n",
      "    {[\"ab\"]}    {[\"bc\"]}    {[\"de\"]}    {[\"ef\"]}    {[\"gh\"]}\n",
      "\n",
      "\n"
     ]
    }
   ],
   "source": [
    "%% Empty Cells\n",
    "cell(10); % returns an empty 10x10 cell array of numerical vectors | you can also specify cell size, e.g. cell(5,10)\n",
    "\n",
    "%% Input = Numerical \n",
    "mycellofnums  = num2cell([1:10]) % With or without the square brackets, works the same\n",
    "      \n",
    "%% Input = Characters\n",
    "mycellofchars = {'ab','bc','de','ef','gh'} % Cell array of character vectors\n",
    "% identical to using cellstr()\n",
    "\n",
    "%% Input = Strings\n",
    "mycellofstrs  = {\"ab\",\"bc\",\"de\",\"ef\",\"gh\"} % Cell array of string vectors\n",
    "\n",
    "%% Both Character and Strings can be used with cellstr(), which converts the input to a cell array of CHARACTER vectors\n",
    "cellstr(vert_chars);\n",
    "cellstr(horz_str);\n",
    "\n",
    "% Note-----------------------------------------------------------------------------------------------------\n",
    "% Putting the curly brackets around a variable will put the data inside a 1x1 cell array\n",
    "% instead of a cell array that reflects the dimensionality of the input... \n",
    "    my1x1cellofnums  = {some_nums};\n",
    "    my1x1cellofchars = {vert_chars};\n",
    "    my1x1cellofstrs  = {horz_str};\n",
    "% ... the same will happen if you try to just put curly brackets around numbers:\n",
    "    my1x1cellofnums  = {1:10}; % or {[1:10]}\n",
    "    \n"
   ]
  },
  {
   "cell_type": "markdown",
   "metadata": {},
   "source": [
    "#### 3. Convert to Character vectors\n",
    "\n",
    "* char()\n",
    "\n",
    "Despite the name, these all convert their inputs to character vectors: \n",
    "* num2str()\n",
    "* int2str()\n",
    "* mat2str()\n"
   ]
  },
  {
   "cell_type": "code",
   "execution_count": 142,
   "metadata": {},
   "outputs": [
    {
     "name": "stdout",
     "output_type": "stream",
     "text": [
      "\n",
      "ans =\n",
      "\n",
      "    '1   2   3   4   5   6   7   8   9  10'\n",
      "\n",
      "\n",
      "ans =\n",
      "\n",
      "  10x2 char array\n",
      "\n",
      "    ' 1'\n",
      "    ' 2'\n",
      "    ' 3'\n",
      "    ' 4'\n",
      "    ' 5'\n",
      "    ' 6'\n",
      "    ' 7'\n",
      "    ' 8'\n",
      "    ' 9'\n",
      "    '10'\n",
      "\n",
      "Remember me? I am more_nums:\n",
      "     1     1\n",
      "     2     2\n",
      "     3     3\n",
      "     4     4\n",
      "     5     5\n",
      "     6     6\n",
      "     7     7\n",
      "     8     8\n",
      "     9     9\n",
      "    10    10\n",
      "\n",
      "\n",
      "ans =\n",
      "\n",
      "    '[1 1;2 2;3 3;4 4;5 5;6 6;7 7;8 8;9 9;10 10]'\n",
      "\n",
      "\n",
      "ans =\n",
      "\n",
      "  10x6 char array\n",
      "\n",
      "    ' 1   1'\n",
      "    ' 2   2'\n",
      "    ' 3   3'\n",
      "    ' 4   4'\n",
      "    ' 5   5'\n",
      "    ' 6   6'\n",
      "    ' 7   7'\n",
      "    ' 8   8'\n",
      "    ' 9   9'\n",
      "    '10  10'\n",
      "\n",
      "\n",
      "saywhat =\n",
      "\n",
      "    '\u0001\u0002\u0003\u0004\u0005\u0006\t\n",
      "     '\n",
      "\n",
      "\n"
     ]
    }
   ],
   "source": [
    "%% Inputs =  Numerical\n",
    "num2str(some_nums) % 1d character vector with a space between each number\n",
    "    % Note the difference in behavior if input is a vertical array: column dimension takes on length of the longest number\n",
    "    num2str(some_nums')\n",
    "    \n",
    "disp('Remember me? I am more_nums:')\n",
    "disp(more_nums)\n",
    "\n",
    "mat2str(more_nums) % Flattens numerical matrix into a single formatted character vector\n",
    "\n",
    "int2str(more_nums) % Number(s) are put into a n-d character vector\n",
    "\n",
    "% Note: Cell arrays of numerical vectors have to be taken out of their cells in order for any of these to work. \n",
    "% Note2: If char() is applied to a numerical vector, it will convert the numbers to ASCII or Unicode characters,\n",
    "%        however it may also show up as mystery boxes: \n",
    "saywhat = char(some_nums)"
   ]
  },
  {
   "cell_type": "code",
   "execution_count": 143,
   "metadata": {},
   "outputs": [
    {
     "name": "stdout",
     "output_type": "stream",
     "text": [
      "\n",
      "ans =\n",
      "\n",
      "  5x2 char array\n",
      "\n",
      "    'ab'\n",
      "    'bc'\n",
      "    'de'\n",
      "    'ef'\n",
      "    'gh'\n",
      "\n",
      "\n",
      "i_used_to_be_strings =\n",
      "\n",
      "  5x2 char array\n",
      "\n",
      "    'ab'\n",
      "    'bc'\n",
      "    'de'\n",
      "    'ef'\n",
      "    'gh'\n",
      "\n",
      "\n",
      "  1x2x5 char array\n",
      "\n",
      "weirdness(:,:,1) =\n",
      "\n",
      "    'ab'\n",
      "\n",
      "weirdness(:,:,2) =\n",
      "\n",
      "    'bc'\n",
      "\n",
      "weirdness(:,:,3) =\n",
      "\n",
      "    'de'\n",
      "\n",
      "weirdness(:,:,4) =\n",
      "\n",
      "    'ef'\n",
      "\n",
      "weirdness(:,:,5) =\n",
      "\n",
      "    'gh'\n",
      "\n",
      "\n"
     ]
    }
   ],
   "source": [
    "%% Inputs = Characters\n",
    "    % Input = Cell array of character vectors\n",
    "    char(mycellofchars) % Removes cells\n",
    "\n",
    "%% Inputs = Strings\n",
    "i_used_to_be_strings = char(vert_str)\n",
    "weirdness = char(horz_str) % If input is a horizontal array of string vectors, it will output will be 3-dimensional\n",
    "    % Input CANNOT BE a cell array of string vectors. You would need to convert to cell array of chararcter vectors \n",
    "    % or simple string vectors\n",
    "    char(string(mycellofstrs));\n"
   ]
  },
  {
   "cell_type": "markdown",
   "metadata": {},
   "source": [
    "#### 4. Convert  to String vectors\n",
    "\n",
    "* string()"
   ]
  },
  {
   "cell_type": "code",
   "execution_count": 144,
   "metadata": {},
   "outputs": [
    {
     "name": "stdout",
     "output_type": "stream",
     "text": [
      "\n",
      "ans = \n",
      "\n",
      "  1x10 string array\n",
      "\n",
      "    \"1\"    \"2\"    \"3\"    \"4\"    \"5\"    \"6\"    \"7\"    \"8\"    \"9\"    \"10\"\n",
      "\n",
      "\n",
      "ans = \n",
      "\n",
      "  5x1 string array\n",
      "\n",
      "    \"ab\"\n",
      "    \"bc\"\n",
      "    \"de\"\n",
      "    \"ef\"\n",
      "    \"gh\"\n",
      "\n",
      "\n"
     ]
    }
   ],
   "source": [
    "%The string() functions works consistently. If applied to a cell array, it will remove the cells without issue.\n",
    "\n",
    "%% Input = Numerical\n",
    "string(some_nums) % convert to an ARRAY of STRING VECTORS\n",
    "    % Input = Cell array of numerical vectors\n",
    "    string(mycellofnums);\n",
    "\n",
    "%% Input = Characters\n",
    "string(vert_chars)\n",
    "    % Input = Cell array of numerical vectors\n",
    "    string(mycellofchars);\n",
    "    \n",
    "%% Input = Strings\n",
    "    % Input = Cell array of string vectors\n",
    "    string(mycellofstrs); % Removes cells "
   ]
  },
  {
   "cell_type": "markdown",
   "metadata": {},
   "source": [
    "#### 5. Convert to Numerical arrays\n",
    "\n",
    "* str2double\n",
    "* str2num\n",
    "* cell2mat"
   ]
  },
  {
   "cell_type": "code",
   "execution_count": 145,
   "metadata": {},
   "outputs": [
    {
     "name": "stdout",
     "output_type": "stream",
     "text": [
      "\n",
      "ans =\n",
      "\n",
      "   NaN\n",
      "\n",
      "\n",
      "i_used_to_be_a_string_vec =\n",
      "\n",
      "     1     2     3     4     5     6     7     8     9    10\n",
      "\n",
      "\n",
      "i_used_to_have_cells =\n",
      "\n",
      "     1     2     3     4     5     6     7     8     9    10\n",
      "\n",
      "\n",
      "i_used_to_be_a_char_vec =\n",
      "\n",
      "     1     2     3     4     5     6     7     8     9    10\n",
      "\n",
      "\n"
     ]
    }
   ],
   "source": [
    "% Inputs = \"Numerical\"\n",
    "\n",
    "% If input is a numerical array, it will return NaN: \n",
    "    str2double(some_nums)\n",
    "% but if input is a numerical array embedded in a string or character vector, then it will extract the number:\n",
    "    i_used_to_be_a_string_vec = str2double(string(some_nums)) %... as a double-precision value\n",
    "        % Inputs = Cell array of numerical vectors\n",
    "        %str2double(mycellofnums) % will return only NaNs\n",
    "        i_used_to_have_cells = cell2mat(mycellofnums) % this is what you need\n",
    "        \n",
    "% You would think this would work, but you'd be wrong...    \n",
    "    %str2num(string(some_nums))\n",
    "    % ... this guy needs a character vector input: \n",
    "    i_used_to_be_a_char_vec = str2num(num2str(some_nums)) % remember that num2str converts input to a character vector, not a string vector"
   ]
  },
  {
   "cell_type": "markdown",
   "metadata": {},
   "source": [
    "#### The following will be elaborated shortly... (they're largely consistent though)"
   ]
  },
  {
   "cell_type": "markdown",
   "metadata": {},
   "source": [
    "#### Convert to Tables\n",
    "\n",
    "* array2table\t\n",
    "* cell2table\t\n",
    "* struct2table\t"
   ]
  },
  {
   "cell_type": "markdown",
   "metadata": {},
   "source": [
    "#### Convert OUT of Tables\n",
    "\n",
    "* table2array\n",
    "* table2cell\n",
    "* table2struct"
   ]
  },
  {
   "cell_type": "markdown",
   "metadata": {},
   "source": [
    "#### Convert to Structures\n",
    "\n",
    "* cell2struct\n",
    "* table2struct"
   ]
  },
  {
   "cell_type": "markdown",
   "metadata": {},
   "source": [
    "#### Convert OUT of Structures\n",
    "\n",
    "* struct2cell\n",
    "* struct2table"
   ]
  }
 ],
 "metadata": {
  "kernelspec": {
   "display_name": "Matlab",
   "language": "matlab",
   "name": "matlab"
  },
  "language_info": {
   "codemirror_mode": "octave",
   "file_extension": ".m",
   "help_links": [
    {
     "text": "MetaKernel Magics",
     "url": "https://github.com/calysto/metakernel/blob/master/metakernel/magics/README.md"
    }
   ],
   "mimetype": "text/x-octave",
   "name": "matlab",
   "version": "0.16.1"
  }
 },
 "nbformat": 4,
 "nbformat_minor": 2
}
